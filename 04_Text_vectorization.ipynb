{
 "cells": [
  {
   "cell_type": "markdown",
   "metadata": {},
   "source": [
    "#  Тестовое задание для стражировки в Avito  \n",
    "## Автор: Павленко Арсений \n",
    "## Часть 4. Векторизация текста"
   ]
  },
  {
   "cell_type": "markdown",
   "metadata": {},
   "source": [
    "Обучим `fasttex` на подготовленной ранее тестовой выборке для признака `title`, сохраним модель и проверим результаты на валидационной выборке."
   ]
  },
  {
   "cell_type": "markdown",
   "metadata": {},
   "source": [
    "# title_vectors"
   ]
  },
  {
   "cell_type": "code",
   "execution_count": 1,
   "metadata": {},
   "outputs": [
    {
     "name": "stdout",
     "output_type": "stream",
     "text": [
      "Read 1M words\n",
      "Number of words:  112957\n",
      "Number of labels: 54\n",
      "Progress: 100.0% words/sec/thread:  113831 lr:  0.000000 loss:  0.613160 ETA:   0h 0m 13.0% words/sec/thread:  116289 lr:  0.086965 loss:  1.703542 ETA:   0h 0m\n",
      "N\t186996\n",
      "P@1\t0.852\n",
      "R@1\t0.852\n",
      "CPU times: user 3.12 s, sys: 505 ms, total: 3.63 s\n",
      "Wall time: 3min 14s\n"
     ]
    }
   ],
   "source": [
    "%%time\n",
    "!fasttext supervised -input ../02_Files/Fasttext/Input/train/title.txt \\\n",
    "                     -output ../03_Models/Fasttext/title/model \\\n",
    "                     -minn 3 \\\n",
    "                     -maxn 6 \\\n",
    "                     -wordNgrams 3 \\\n",
    "                     -epoch 10 \\\n",
    "                     -thread 4\n",
    "\n",
    "!fasttext quantize -input ../02_Files/Fasttext/Input/train/title.txt \\\n",
    "                   -output ../03_Models/Fasttext/title/model\n",
    "\n",
    "!fasttext test ../03_Models/Fasttext/title/model.ftz \\\n",
    "               ../02_Files/Fasttext/Input/valid/title.txt"
   ]
  },
  {
   "cell_type": "markdown",
   "metadata": {},
   "source": [
    "Сохраним вектора полученные на основе обученной модели для тренировочной, валидационной и тестовой выборки соответственно"
   ]
  },
  {
   "cell_type": "markdown",
   "metadata": {},
   "source": [
    "## train"
   ]
  },
  {
   "cell_type": "code",
   "execution_count": 2,
   "metadata": {},
   "outputs": [],
   "source": [
    "!fasttext print-sentence-vectors ../03_Models/Fasttext/title/model.ftz \\\n",
    "          < ../02_Files/Fasttext/Input/train/title_no_label_.txt \\\n",
    "          > ../02_Files/Fasttext/Vectors/train/title.txt"
   ]
  },
  {
   "cell_type": "markdown",
   "metadata": {},
   "source": [
    "## valid"
   ]
  },
  {
   "cell_type": "code",
   "execution_count": 3,
   "metadata": {},
   "outputs": [],
   "source": [
    "!fasttext print-sentence-vectors ../03_Models/Fasttext/title/model.ftz \\\n",
    "          < ../02_Files/Fasttext/Input/valid/title_no_label_.txt \\\n",
    "          > ../02_Files/Fasttext/Vectors/valid/title.txt"
   ]
  },
  {
   "cell_type": "markdown",
   "metadata": {},
   "source": [
    "## test"
   ]
  },
  {
   "cell_type": "code",
   "execution_count": 4,
   "metadata": {},
   "outputs": [],
   "source": [
    "!fasttext print-sentence-vectors ../03_Models/Fasttext/title/model.ftz \\\n",
    "          < ../02_Files/Fasttext/Input/test/title_no_label_.txt \\\n",
    "          > ../02_Files/Fasttext/Vectors/test/title.txt"
   ]
  },
  {
   "cell_type": "markdown",
   "metadata": {},
   "source": [
    "Проделаем тоже самое для дпризнака `description`"
   ]
  },
  {
   "cell_type": "markdown",
   "metadata": {},
   "source": [
    "# description_vectors"
   ]
  },
  {
   "cell_type": "code",
   "execution_count": 10,
   "metadata": {},
   "outputs": [
    {
     "name": "stdout",
     "output_type": "stream",
     "text": [
      "Read 11M words\n",
      "Number of words:  434525\n",
      "Number of labels: 54\n",
      "Progress: 100.0% words/sec/thread:   39534 lr:  0.000000 loss:  1.238423 ETA:   0h 0m  2.7% words/sec/thread:   32459 lr:  0.097333 loss:  4.040710 ETA:   0h14m 4.032464 ETA:   0h14m 0.096110 loss:  4.013225 ETA:   0h14m  32260 lr:  0.096090 loss:  4.012420 ETA:   0h14m14m  6.0% words/sec/thread:   32954 lr:  0.093996 loss:  3.845864 ETA:   0h14m 0.092575 loss:  3.690082 ETA:   0h13m ETA:   0h13m% words/sec/thread:   33141 lr:  0.091798 loss:  3.589597 ETA:   0h13m  8.9% words/sec/thread:   33155 lr:  0.091133 loss:  3.493657 ETA:   0h13m  33182 lr:  0.090107 loss:  3.365502 ETA:   0h13mh13m 11.1% words/sec/thread:   33189 lr:  0.088851 loss:  3.212942 ETA:   0h13m 12.1% words/sec/thread:   33585 lr:  0.087908 loss:  3.115629 ETA:   0h12m 16.3% words/sec/thread:   39354 lr:  0.083697 loss:  2.728163 ETA:   0h10m 19.4% words/sec/thread:   38238 lr:  0.080630 loss:  2.529656 ETA:   0h10m 20.1% words/sec/thread:   38043 lr:  0.079888 loss:  2.490280 ETA:   0h10m loss:  2.473681 ETA:   0h10m% words/sec/thread:   37987 lr:  0.079536 loss:  2.469657 ETA:   0h10m% words/sec/thread:   37721 lr:  0.078516 loss:  2.411424 ETA:   0h10mm 22.2% words/sec/thread:   37546 lr:  0.077772 loss:  2.377127 ETA:   0h10m words/sec/thread:   37404 lr:  0.076849 loss:  2.334232 ETA:   0h10mh10m words/sec/thread:   37305 lr:  0.076322 loss:  2.311169 ETA:   0h10m 25.4% words/sec/thread:   37132 lr:  0.074588 loss:  2.242125 ETA:   0h 9m 25.5% words/sec/thread:   37127 lr:  0.074527 loss:  2.240333 ETA:   0h 9m 25.9% words/sec/thread:   37094 lr:  0.074127 loss:  2.222479 ETA:   0h 9m  0h 9m 9m 0.070280 loss:  2.081787 ETA:   0h 9m 30.0% words/sec/thread:   36680 lr:  0.069950 loss:  2.070379 ETA:   0h 9m 0.067442 loss:  1.993907 ETA:   0h 9m loss:  1.958393 ETA:   0h 8m lr:  0.063859 loss:  1.910921 ETA:   0h 8m words/sec/thread:   36423 lr:  0.063227 loss:  1.895791 ETA:   0h 8m 37.1% words/sec/thread:   36401 lr:  0.062879 loss:  1.889093 ETA:   0h 8m words/sec/thread:   36388 lr:  0.061535 loss:  1.855837 ETA:   0h 8m loss:  1.855623 ETA:   0h 8m% words/sec/thread:   36361 lr:  0.059957 loss:  1.822849 ETA:   0h 8m 40.1% words/sec/thread:   36359 lr:  0.059869 loss:  1.821248 ETA:   0h 8m 41.4% words/sec/thread:   36300 lr:  0.058590 loss:  1.797727 ETA:   0h 8m  36287 lr:  0.058004 loss:  1.786057 ETA:   0h 7m 42.2% words/sec/thread:   36272 lr:  0.057844 loss:  1.783327 ETA:   0h 7m 43.6% words/sec/thread:   36216 lr:  0.056422 loss:  1.757293 ETA:   0h 7m 0.053958 loss:  1.714188 ETA:   0h 7m  36141 lr:  0.053819 loss:  1.711448 ETA:   0h 7m% words/sec/thread:   36128 lr:  0.053635 loss:  1.709051 ETA:   0h 7m 46.7% words/sec/thread:   36113 lr:  0.053253 loss:  1.702994 ETA:   0h 7m 46.9% words/sec/thread:   36103 lr:  0.053090 loss:  1.700799 ETA:   0h 7m 47.3% words/sec/thread:   36104 lr:  0.052743 loss:  1.694912 ETA:   0h 7m 7m 47.6% words/sec/thread:   36092 lr:  0.052435 loss:  1.690186 ETA:   0h 7m 48.4% words/sec/thread:   36080 lr:  0.051613 loss:  1.675194 ETA:   0h 7m 48.4% words/sec/thread:   36078 lr:  0.051602 loss:  1.675184 ETA:   0h 7m 48.5% words/sec/thread:   36067 lr:  0.051512 loss:  1.673678 ETA:   0h 7m% words/sec/thread:   36056 lr:  0.051026 loss:  1.665711 ETA:   0h 7m 49.1% words/sec/thread:   36049 lr:  0.050861 loss:  1.663131 ETA:   0h 6m 49.2% words/sec/thread:   36056 lr:  0.050813 loss:  1.662528 ETA:   0h 6m% words/sec/thread:   36025 lr:  0.047179 loss:  1.612428 ETA:   0h 6m 53.2% words/sec/thread:   36003 lr:  0.046812 loss:  1.607409 ETA:   0h 6m  35984 lr:  0.046504 loss:  1.602823 ETA:   0h 6m 54.6% words/sec/thread:   36005 lr:  0.045370 loss:  1.587674 ETA:   0h 6m 54.7% words/sec/thread:   36000 lr:  0.045339 loss:  1.587317 ETA:   0h 6m lr:  0.045019 loss:  1.583225 ETA:   0h 6m lr:  0.044136 loss:  1.571893 ETA:   0h 6m% words/sec/thread:   35981 lr:  0.043502 loss:  1.564879 ETA:   0h 5m 60.4% words/sec/thread:   37157 lr:  0.039552 loss:  1.521634 ETA:   0h 5m 60.9% words/sec/thread:   37303 lr:  0.039138 loss:  1.517460 ETA:   0h 5m 62.7% words/sec/thread:   37924 lr:  0.037344 loss:  1.498570 ETA:   0h 4m 4m  38534 lr:  0.035544 loss:  1.479924 ETA:   0h 4m 66.7% words/sec/thread:   38708 lr:  0.033265 loss:  1.458565 ETA:   0h 4m 67.3% words/sec/thread:   38672 lr:  0.032652 loss:  1.452907 ETA:   0h 4m 67.4% words/sec/thread:   38674 lr:  0.032620 loss:  1.452582 ETA:   0h 4m 68.1% words/sec/thread:   38666 lr:  0.031937 loss:  1.446817 ETA:   0h 4mh 4m 69.4% words/sec/thread:   38660 lr:  0.030639 loss:  1.435239 ETA:   0h 3m words/sec/thread:   38654 lr:  0.030434 loss:  1.433598 ETA:   0h 3m% words/sec/thread:   38639 lr:  0.030167 loss:  1.431337 ETA:   0h 3mh 3m 71.8% words/sec/thread:   38587 lr:  0.028189 loss:  1.412896 ETA:   0h 3m 72.4% words/sec/thread:   38571 lr:  0.027596 loss:  1.408702 ETA:   0h 3m ETA:   0h 3m 1.395195 ETA:   0h 3m 74.3% words/sec/thread:   38552 lr:  0.025651 loss:  1.394844 ETA:   0h 3m  38550 lr:  0.025562 loss:  1.394064 ETA:   0h 3m 74.9% words/sec/thread:   38532 lr:  0.025143 loss:  1.391033 ETA:   0h 3m  38501 lr:  0.024423 loss:  1.386174 ETA:   0h 3m 76.0% words/sec/thread:   38503 lr:  0.024005 loss:  1.383295 ETA:   0h 3m lr:  0.023534 loss:  1.380457 ETA:   0h 3m  38463 lr:  0.022960 loss:  1.376222 ETA:   0h 2m 77.9% words/sec/thread:   38585 lr:  0.022143 loss:  1.370183 ETA:   0h 2m words/sec/thread:   39044 lr:  0.020388 loss:  1.358143 ETA:   0h 2m loss:  1.357949 ETA:   0h 2m words/sec/thread:   39253 lr:  0.019590 loss:  1.352191 ETA:   0h 2m% words/sec/thread:   39654 lr:  0.016877 loss:  1.333035 ETA:   0h 2m 83.3% words/sec/thread:   39639 lr:  0.016660 loss:  1.331291 ETA:   0h 2m 0.016618 loss:  1.331012 ETA:   0h 2m% words/sec/thread:   39609 lr:  0.016211 loss:  1.328227 ETA:   0h 2m 84.0% words/sec/thread:   39605 lr:  0.015992 loss:  1.327003 ETA:   0h 2m  0h 1m lr:  0.014980 loss:  1.320969 ETA:   0h 1m  0h 1m 86.0% words/sec/thread:   39684 lr:  0.013997 loss:  1.314530 ETA:   0h 1m 86.3% words/sec/thread:   39740 lr:  0.013727 loss:  1.313049 ETA:   0h 1m 86.7% words/sec/thread:   39836 lr:  0.013344 loss:  1.310781 ETA:   0h 1m 0.012281 loss:  1.304373 ETA:   0h 1m 0.010900 loss:  1.294845 ETA:   0h 1m  39985 lr:  0.009369 loss:  1.286261 ETA:   0h 1m 91.2% words/sec/thread:   39943 lr:  0.008812 loss:  1.283618 ETA:   0h 1m% words/sec/thread:   39933 lr:  0.008680 loss:  1.282974 ETA:   0h 1m 91.6% words/sec/thread:   39924 lr:  0.008438 loss:  1.281733 ETA:   0h 1m 93.1% words/sec/thread:   39846 lr:  0.006939 loss:  1.274364 ETA:   0h 0mm 0.006574 loss:  1.272112 ETA:   0h 0m 94.1% words/sec/thread:   39789 lr:  0.005931 loss:  1.268313 ETA:   0h 0m 0.005711 loss:  1.267084 ETA:   0h 0m  0h 0m% words/sec/thread:   39756 lr:  0.004933 loss:  1.263022 ETA:   0h 0m% words/sec/thread:   39751 lr:  0.004638 loss:  1.261470 ETA:   0h 0mh 0m 0.002773 loss:  1.251998 ETA:   0h 0m 97.6% words/sec/thread:   39627 lr:  0.002418 loss:  1.250485 ETA:   0h 0m 0.002292 loss:  1.249919 ETA:   0h 0m 97.8% words/sec/thread:   39607 lr:  0.002153 loss:  1.249086 ETA:   0h 0m 98.2% words/sec/thread:   39596 lr:  0.001764 loss:  1.247071 ETA:   0h 0m 1.242919 ETA:   0h 0m  0h 0m 99.8% words/sec/thread:   39552 lr:  0.000230 loss:  1.239442 ETA:   0h 0m\n",
      "N\t186996\n",
      "P@1\t0.77\n",
      "R@1\t0.77\n",
      "CPU times: user 57.4 s, sys: 15.2 s, total: 1min 12s\n",
      "Wall time: 19min 13s\n"
     ]
    }
   ],
   "source": [
    "%%time\n",
    "!fasttext supervised -input ../02_Files/Fasttext/Input/train/description.txt \\\n",
    "                     -output ../03_Models/Fasttext/description/model \\\n",
    "                     -minn 3 \\\n",
    "                     -maxn 6 \\\n",
    "                     -wordNgrams 2 \\\n",
    "                     -epoch 10 \\\n",
    "                     -thread 4\n",
    "\n",
    "!fasttext quantize -input ../02_Files/Fasttext/Input/train/description.txt \\\n",
    "                   -output ../03_Models/Fasttext/description/model\n",
    "\n",
    "!fasttext test ../03_Models/Fasttext/description/model.ftz \\\n",
    "               ../02_Files/Fasttext/Input/valid/description.txt"
   ]
  },
  {
   "cell_type": "markdown",
   "metadata": {},
   "source": [
    "## train"
   ]
  },
  {
   "cell_type": "code",
   "execution_count": 11,
   "metadata": {},
   "outputs": [],
   "source": [
    "!fasttext print-sentence-vectors ../03_Models/Fasttext/description/model.ftz \\\n",
    "          < ../02_Files/Fasttext/Input/train/description_no_label_.txt \\\n",
    "          > ../02_Files/Fasttext/Vectors/train/description.txt"
   ]
  },
  {
   "cell_type": "markdown",
   "metadata": {},
   "source": [
    "## valid"
   ]
  },
  {
   "cell_type": "code",
   "execution_count": 12,
   "metadata": {},
   "outputs": [],
   "source": [
    "!fasttext print-sentence-vectors ../03_Models/Fasttext/description/model.ftz \\\n",
    "          < ../02_Files/Fasttext/Input/valid/description_no_label_.txt \\\n",
    "          > ../02_Files/Fasttext/Vectors/valid/description.txt"
   ]
  },
  {
   "cell_type": "markdown",
   "metadata": {},
   "source": [
    "## test"
   ]
  },
  {
   "cell_type": "code",
   "execution_count": 13,
   "metadata": {},
   "outputs": [],
   "source": [
    "!fasttext print-sentence-vectors ../03_Models/Fasttext/description/model.ftz \\\n",
    "          < ../02_Files/Fasttext/Input/test/description_no_label_.txt \\\n",
    "          > ../02_Files/Fasttext/Vectors/test/description.txt"
   ]
  }
 ],
 "metadata": {
  "kernelspec": {
   "display_name": "Python 3",
   "language": "python",
   "name": "python3"
  },
  "language_info": {
   "codemirror_mode": {
    "name": "ipython",
    "version": 3
   },
   "file_extension": ".py",
   "mimetype": "text/x-python",
   "name": "python",
   "nbconvert_exporter": "python",
   "pygments_lexer": "ipython3",
   "version": "3.6.7"
  }
 },
 "nbformat": 4,
 "nbformat_minor": 2
}
