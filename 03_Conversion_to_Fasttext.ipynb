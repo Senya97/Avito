{
 "cells": [
  {
   "cell_type": "markdown",
   "metadata": {},
   "source": [
    "#  Тестовое задание для стражировки в Avito  \n",
    "## Автор: Павленко Арсений \n",
    "## Часть 3. Подготовка данных для fasttext"
   ]
  },
  {
   "cell_type": "code",
   "execution_count": null,
   "metadata": {},
   "outputs": [],
   "source": [
    "import pandas as pd\n",
    "from os.path import join"
   ]
  },
  {
   "cell_type": "code",
   "execution_count": 2,
   "metadata": {},
   "outputs": [],
   "source": [
    "PATH_TO_TTS_TRAIN = \"../02_Files/Train_test_split/train/\"\n",
    "PATH_TO_TTS_VALID = \"../02_Files/Train_test_split/valid\"\n",
    "PATH_TO_TTS_TEST = \"../02_Files/Train_test_split/test/\""
   ]
  },
  {
   "cell_type": "code",
   "execution_count": 3,
   "metadata": {},
   "outputs": [],
   "source": [
    "PATH_TO_TRAIN_SAVE = '../02_Files/Fasttext/Input/train/'\n",
    "PATH_TO_VALID_SAVE = '../02_Files/Fasttext/Input/valid/'\n",
    "PATH_TO_TEST_SAVE = '../02_Files/Fasttext/Input/test/'"
   ]
  },
  {
   "cell_type": "markdown",
   "metadata": {},
   "source": [
    "Для обучения фасстекста необходимо привести исходные данные к спечиальному формату.\n",
    "\n",
    "Реализуем функцию `to_fasttext_input` которая на вход будет принимать ранее сохраненные файлы и преобразовать их к нужному формату и сохранять файл в указанном месте."
   ]
  },
  {
   "cell_type": "code",
   "execution_count": 4,
   "metadata": {},
   "outputs": [],
   "source": [
    "def to_fasttext_input(feature_file, target_file, file_name):\n",
    "\n",
    "    feature_df = pd.read_csv(feature_file) \n",
    "    target_df = pd.read_csv(target_file) \n",
    "\n",
    "    with open(file_name, \"w\") as f_out:\n",
    "        for idx in feature_df.index:\n",
    "\n",
    "            feature = feature_df.iloc[idx].values\n",
    "            feature = feature[1]\n",
    "\n",
    "            target = target_df.iloc[idx].values\n",
    "            target = target[1]\n",
    "\n",
    "            line = str(feature) + ' __label__' + str(target) + \"\\n\"\n",
    "            \n",
    "            f_out.write(line)\n",
    "    return"
   ]
  },
  {
   "cell_type": "code",
   "execution_count": 5,
   "metadata": {},
   "outputs": [],
   "source": [
    "features = ['title', 'description']"
   ]
  },
  {
   "cell_type": "markdown",
   "metadata": {},
   "source": [
    "Преобразуем и сохраним признаки"
   ]
  },
  {
   "cell_type": "code",
   "execution_count": 6,
   "metadata": {},
   "outputs": [],
   "source": [
    "for name in features:\n",
    "    to_fasttext_input(join(PATH_TO_TTS_TRAIN, name + '.csv'), \n",
    "                      join(PATH_TO_TTS_TRAIN,'category_id.csv'), \n",
    "                      join(PATH_TO_TRAIN_SAVE, name + '.txt'))\n",
    "    \n",
    "    to_fasttext_input(join(PATH_TO_TTS_VALID, name + '.csv'), \n",
    "                      join(PATH_TO_TTS_VALID,'category_id.csv'), \n",
    "                      join(PATH_TO_VALID_SAVE, name + '.txt'))"
   ]
  },
  {
   "cell_type": "markdown",
   "metadata": {},
   "source": [
    "Для создания векторов на основе обученной модели также необходимо привести данные  к определенному формату. \n",
    "\n",
    "Для этого реализуем функцию `no_label_input` которая также после преобразования будет сохранять полученные файлы в указанном месте."
   ]
  },
  {
   "cell_type": "code",
   "execution_count": 7,
   "metadata": {},
   "outputs": [],
   "source": [
    "def no_label_input(feature_file, file_name):\n",
    "\n",
    "    feature_df = pd.read_csv(feature_file) \n",
    "\n",
    "    with open(file_name, \"w\") as f_out:\n",
    "        for idx in feature_df.index:\n",
    "\n",
    "            feature = feature_df.iloc[idx].values\n",
    "            feature = feature[1]\n",
    "\n",
    "            line = str(feature) + \"\\n\"\n",
    "            \n",
    "            f_out.write(line)\n",
    "    return"
   ]
  },
  {
   "cell_type": "code",
   "execution_count": 9,
   "metadata": {},
   "outputs": [],
   "source": [
    "for name in features:\n",
    "    no_label_input(join(PATH_TO_TTS_TRAIN, name + '.csv'), \n",
    "                                        join(PATH_TO_TRAIN_SAVE, name + '_no_label_.txt'))\n",
    "    \n",
    "    no_label_input(join(PATH_TO_TTS_VALID, name + '.csv'), \n",
    "                                        join(PATH_TO_VALID_SAVE, name + '_no_label_.txt'))\n",
    "    \n",
    "    no_label_input(join(PATH_TO_TTS_TEST, name + '.csv'), \n",
    "                                        join(PATH_TO_TEST_SAVE, name + '_no_label_.txt'))"
   ]
  }
 ],
 "metadata": {
  "kernelspec": {
   "display_name": "Python 3",
   "language": "python",
   "name": "python3"
  },
  "language_info": {
   "codemirror_mode": {
    "name": "ipython",
    "version": 3
   },
   "file_extension": ".py",
   "mimetype": "text/x-python",
   "name": "python",
   "nbconvert_exporter": "python",
   "pygments_lexer": "ipython3",
   "version": "3.6.7"
  }
 },
 "nbformat": 4,
 "nbformat_minor": 2
}
